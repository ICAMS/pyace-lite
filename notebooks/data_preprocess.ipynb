{
 "cells": [
  {
   "cell_type": "code",
   "execution_count": 1,
   "metadata": {},
   "outputs": [],
   "source": [
    "import gc"
   ]
  },
  {
   "cell_type": "code",
   "execution_count": 2,
   "metadata": {},
   "outputs": [],
   "source": [
    "from pyace import *"
   ]
  },
  {
   "cell_type": "markdown",
   "metadata": {},
   "source": [
    "1. Create dataset configuraton dictionary"
   ]
  },
  {
   "cell_type": "code",
   "execution_count": 3,
   "metadata": {},
   "outputs": [],
   "source": [
    "config={\n",
    "    \"calculator\":StructuresDatasetSpecification.FHI_AIMS_PBE_TIGHT, #='FHI-aims/PBE/tight'\n",
    "    \"element\":\"Al\",\n",
    "    \"seed\":42 # for shuffling the data\n",
    "}"
   ]
  },
  {
   "cell_type": "markdown",
   "metadata": {},
   "source": [
    "2. Create `StructuresDatasetSpecification` object, specify `datapath` to point to the location of cached pickl files"
   ]
  },
  {
   "cell_type": "code",
   "execution_count": 4,
   "metadata": {},
   "outputs": [],
   "source": [
    "spec = StructuresDatasetSpecification(\n",
    "    config=config,\n",
    "    datapath=\"../data\", # where to look and store cached pickle files\n",
    "#     parallel=3, # parallel processing of data? uncomment it out, if you want\n",
    ")"
   ]
  },
  {
   "cell_type": "markdown",
   "metadata": {},
   "source": [
    "There are two dataframes: \n",
    " * `reference` dataframe, which has original data, energies, forces, corrected energies, ASE atoms and atomic environments (neighbour listst)"
   ]
  },
  {
   "cell_type": "code",
   "execution_count": 5,
   "metadata": {},
   "outputs": [
    {
     "name": "stderr",
     "output_type": "stream",
     "text": [
      "2020-07-06 12:17:01,778 - pyace.preparedata - INFO - Search for cache ref-file: ../data/df-FHI-aims_PBE_tight-Al-ref.pckl.gzip\n",
      "2020-07-06 12:17:01,779 - pyace.preparedata - INFO - ../data/df-FHI-aims_PBE_tight-Al-ref.pckl.gzip found, try to load\n",
      "2020-07-06 12:17:01,779 - pyace.preparedata - INFO - Loading dataframe from pickle file: ../data/df-FHI-aims_PBE_tight-Al-ref.pckl.gzip\n",
      "2020-07-06 12:17:29,062 - pyace.preparedata - INFO - Setting up structures dataframe - please be patient...\n",
      "2020-07-06 12:17:29,072 - pyace.preparedata - INFO - Processing structures dataframe. Shape: (95969, 18)\n",
      "2020-07-06 12:17:29,076 - pyace.preparedata - INFO - Total number of atoms: 798245\n",
      "2020-07-06 12:17:29,077 - pyace.preparedata - INFO - Mean number of atoms per structure: 8.31773801956882\n",
      "2020-07-06 12:17:29,078 - pyace.preparedata - INFO - 'energy' columns found\n",
      "2020-07-06 12:17:29,080 - pyace.preparedata - INFO - 'forces' columns found\n",
      "2020-07-06 12:17:29,082 - pyace.preparedata - INFO - 'pbc' columns found\n",
      "2020-07-06 12:17:29,084 - pyace.preparedata - INFO - 'cell' column found\n",
      "2020-07-06 12:17:29,085 - pyace.preparedata - INFO - 'energy_corrected' column found\n",
      "2020-07-06 12:17:29,088 - pyace.preparedata - INFO - 'energy_corrected_per_atom' column found\n",
      "2020-07-06 12:17:29,091 - pyace.preparedata - INFO - Min energy per atom: -3.6868517011898803\n",
      "2020-07-06 12:17:29,093 - pyace.preparedata - INFO - Max energy per atom: 118.36968144114508\n",
      "2020-07-06 12:17:29,101 - pyace.preparedata - INFO - Min abs energy per atom: 0.0005928800801484613\n",
      "2020-07-06 12:17:29,111 - pyace.preparedata - INFO - Max abs energy per atom: 118.36968144114508\n",
      "2020-07-06 12:17:29,112 - pyace.preparedata - INFO - ASE atoms ('ase_atoms' column) are already in dataframe\n",
      "2020-07-06 12:17:29,118 - pyace.preparedata - INFO - Atomic environment representation construction...\n",
      "2020-07-06 12:17:29,129 - pyace.preparedata - INFO - 'atomic_env' already in dataframe, skipping...\n",
      "2020-07-06 12:17:29,132 - pyace.preparedata - INFO - Atomic environment representation construction...done within 0.003358602523803711 sec (4.20748332129072e-06 ms/atom)\n",
      "2020-07-06 12:17:29,135 - pyace.preparedata - INFO - Reference dataframe was not changed, nothing to save\n"
     ]
    }
   ],
   "source": [
    "df = spec.get_ref_dataframe() "
   ]
  },
  {
   "cell_type": "code",
   "execution_count": 6,
   "metadata": {},
   "outputs": [
    {
     "data": {
      "text/html": [
       "<div>\n",
       "<style scoped>\n",
       "    .dataframe tbody tr th:only-of-type {\n",
       "        vertical-align: middle;\n",
       "    }\n",
       "\n",
       "    .dataframe tbody tr th {\n",
       "        vertical-align: top;\n",
       "    }\n",
       "\n",
       "    .dataframe thead th {\n",
       "        text-align: right;\n",
       "    }\n",
       "</style>\n",
       "<table border=\"1\" class=\"dataframe\">\n",
       "  <thead>\n",
       "    <tr style=\"text-align: right;\">\n",
       "      <th></th>\n",
       "      <th>prop_id</th>\n",
       "      <th>structure_id</th>\n",
       "      <th>gen_id</th>\n",
       "      <th>PROTOTYPE_NAME</th>\n",
       "      <th>COORDINATES_TYPE</th>\n",
       "      <th>_COORDINATES</th>\n",
       "      <th>_OCCUPATION</th>\n",
       "      <th>NUMBER_OF_ATOMS</th>\n",
       "      <th>_VALUE</th>\n",
       "      <th>energy</th>\n",
       "      <th>forces</th>\n",
       "      <th>pbc</th>\n",
       "      <th>cell</th>\n",
       "      <th>energy_corrected</th>\n",
       "      <th>energy_corrected_per_atom</th>\n",
       "      <th>ase_atoms</th>\n",
       "      <th>atomic_env</th>\n",
       "      <th>tp_atoms</th>\n",
       "    </tr>\n",
       "  </thead>\n",
       "  <tbody>\n",
       "    <tr>\n",
       "      <th>0</th>\n",
       "      <td>1040818</td>\n",
       "      <td>904660</td>\n",
       "      <td>8941</td>\n",
       "      <td>ran2.92745</td>\n",
       "      <td>relative</td>\n",
       "      <td>[[0.0, 0.0, 0.0], [0.9967053755813468, 0.62183...</td>\n",
       "      <td>[Al, Al]</td>\n",
       "      <td>2</td>\n",
       "      <td>{'energy': -13224.7362927688, 'forces': [[0.04...</td>\n",
       "      <td>-13224.736293</td>\n",
       "      <td>[[0.0462694175117218, -0.0283318908140446, 0.1...</td>\n",
       "      <td>True</td>\n",
       "      <td>[[8.100355, 0.0, -2.124258], [13.180748, 1.371...</td>\n",
       "      <td>-3.922645</td>\n",
       "      <td>-1.961322</td>\n",
       "      <td>(Atom('Al', [0.0, 0.0, 0.0], index=0), Atom('A...</td>\n",
       "      <td>ACEAtomicEnvironment(n_atoms_real=2, n_atoms_e...</td>\n",
       "      <td>{'_ind_i': [0, 0, 0, 0, 0, 0, 0, 0, 0, 0, 0, 0...</td>\n",
       "    </tr>\n",
       "    <tr>\n",
       "      <th>1</th>\n",
       "      <td>1026680</td>\n",
       "      <td>890522</td>\n",
       "      <td>8284</td>\n",
       "      <td>ran1.115</td>\n",
       "      <td>relative</td>\n",
       "      <td>[[0.0, 0.0, 0.0]]</td>\n",
       "      <td>[Al]</td>\n",
       "      <td>1</td>\n",
       "      <td>{'energy': -6611.85683314864, 'forces': [[0.0,...</td>\n",
       "      <td>-6611.856833</td>\n",
       "      <td>[[0.0, 0.0, 0.0]]</td>\n",
       "      <td>True</td>\n",
       "      <td>[[3.717904, 0.0, 0.026786], [-0.395226, 3.4670...</td>\n",
       "      <td>-1.450009</td>\n",
       "      <td>-1.450009</td>\n",
       "      <td>(Atom('Al', [0.0, 0.0, 0.0], index=0))</td>\n",
       "      <td>ACEAtomicEnvironment(n_atoms_real=1, n_atoms_e...</td>\n",
       "      <td>{'_ind_i': [0, 0, 0, 0, 0, 0, 0, 0, 0, 0, 0, 0...</td>\n",
       "    </tr>\n",
       "    <tr>\n",
       "      <th>2</th>\n",
       "      <td>1037492</td>\n",
       "      <td>901334</td>\n",
       "      <td>8768</td>\n",
       "      <td>ran2.57277</td>\n",
       "      <td>relative</td>\n",
       "      <td>[[0.0, 0.0, 0.0], [0.5048809767653067, 0.98895...</td>\n",
       "      <td>[Al, Al]</td>\n",
       "      <td>2</td>\n",
       "      <td>{'energy': -13222.3384598766, 'forces': [[-0.0...</td>\n",
       "      <td>-13222.338460</td>\n",
       "      <td>[[-0.0340266288463364, -0.385521331811851, 0.3...</td>\n",
       "      <td>True</td>\n",
       "      <td>[[5.428361, 0.0, 0.877886], [-9.147794, 3.9605...</td>\n",
       "      <td>-1.524812</td>\n",
       "      <td>-0.762406</td>\n",
       "      <td>(Atom('Al', [0.0, 0.0, 0.0], index=0), Atom('A...</td>\n",
       "      <td>ACEAtomicEnvironment(n_atoms_real=2, n_atoms_e...</td>\n",
       "      <td>{'_ind_i': [0, 0, 0, 0, 0, 0, 0, 0, 0, 0, 0, 0...</td>\n",
       "    </tr>\n",
       "    <tr>\n",
       "      <th>3</th>\n",
       "      <td>1021077</td>\n",
       "      <td>884919</td>\n",
       "      <td>7781</td>\n",
       "      <td>4-body-fcc-rcut=3-00106</td>\n",
       "      <td>absolute</td>\n",
       "      <td>[[0.0, 0.0, 0.0], [1.71898, 0.0, 1.71898], [-1...</td>\n",
       "      <td>[Al, Al, Al, Al]</td>\n",
       "      <td>4</td>\n",
       "      <td>{'energy': -26446.8931086161, 'forces': [[0.41...</td>\n",
       "      <td>-26446.893109</td>\n",
       "      <td>[[0.41510249036189, 0.986917971756794, -0.3363...</td>\n",
       "      <td>False</td>\n",
       "      <td>[[0.0, 0.0, 0.0], [0.0, 0.0, 0.0], [0.0, 0.0, ...</td>\n",
       "      <td>-5.265813</td>\n",
       "      <td>-1.316453</td>\n",
       "      <td>(Atom('Al', [0.0, 0.0, 0.0], index=0), Atom('A...</td>\n",
       "      <td>ACEAtomicEnvironment(n_atoms_real=4, n_atoms_e...</td>\n",
       "      <td>{'_ind_i': [0, 0, 0, 1, 1, 1, 2, 2, 2, 3, 3, 3...</td>\n",
       "    </tr>\n",
       "    <tr>\n",
       "      <th>4</th>\n",
       "      <td>1023398</td>\n",
       "      <td>887240</td>\n",
       "      <td>7995</td>\n",
       "      <td>4-body-fcc-rcut=3-00320</td>\n",
       "      <td>absolute</td>\n",
       "      <td>[[0.0, 0.0, 0.0], [1.82009, 1.82009, 0.0], [-3...</td>\n",
       "      <td>[Al, Al, Al, Al]</td>\n",
       "      <td>4</td>\n",
       "      <td>{'energy': -26444.8116657441, 'forces': [[-1.1...</td>\n",
       "      <td>-26444.811666</td>\n",
       "      <td>[[-1.18932752688358, -0.303375744897557, -0.01...</td>\n",
       "      <td>False</td>\n",
       "      <td>[[0.0, 0.0, 0.0], [0.0, 0.0, 0.0], [0.0, 0.0, ...</td>\n",
       "      <td>-3.184370</td>\n",
       "      <td>-0.796092</td>\n",
       "      <td>(Atom('Al', [0.0, 0.0, 0.0], index=0), Atom('A...</td>\n",
       "      <td>ACEAtomicEnvironment(n_atoms_real=4, n_atoms_e...</td>\n",
       "      <td>{'_ind_i': [0, 0, 0, 1, 1, 1, 2, 2, 2, 3, 3, 3...</td>\n",
       "    </tr>\n",
       "  </tbody>\n",
       "</table>\n",
       "</div>"
      ],
      "text/plain": [
       "   prop_id  structure_id  gen_id           PROTOTYPE_NAME COORDINATES_TYPE  \\\n",
       "0  1040818        904660    8941               ran2.92745         relative   \n",
       "1  1026680        890522    8284                 ran1.115         relative   \n",
       "2  1037492        901334    8768               ran2.57277         relative   \n",
       "3  1021077        884919    7781  4-body-fcc-rcut=3-00106         absolute   \n",
       "4  1023398        887240    7995  4-body-fcc-rcut=3-00320         absolute   \n",
       "\n",
       "                                        _COORDINATES       _OCCUPATION  \\\n",
       "0  [[0.0, 0.0, 0.0], [0.9967053755813468, 0.62183...          [Al, Al]   \n",
       "1                                  [[0.0, 0.0, 0.0]]              [Al]   \n",
       "2  [[0.0, 0.0, 0.0], [0.5048809767653067, 0.98895...          [Al, Al]   \n",
       "3  [[0.0, 0.0, 0.0], [1.71898, 0.0, 1.71898], [-1...  [Al, Al, Al, Al]   \n",
       "4  [[0.0, 0.0, 0.0], [1.82009, 1.82009, 0.0], [-3...  [Al, Al, Al, Al]   \n",
       "\n",
       "   NUMBER_OF_ATOMS                                             _VALUE  \\\n",
       "0                2  {'energy': -13224.7362927688, 'forces': [[0.04...   \n",
       "1                1  {'energy': -6611.85683314864, 'forces': [[0.0,...   \n",
       "2                2  {'energy': -13222.3384598766, 'forces': [[-0.0...   \n",
       "3                4  {'energy': -26446.8931086161, 'forces': [[0.41...   \n",
       "4                4  {'energy': -26444.8116657441, 'forces': [[-1.1...   \n",
       "\n",
       "         energy                                             forces    pbc  \\\n",
       "0 -13224.736293  [[0.0462694175117218, -0.0283318908140446, 0.1...   True   \n",
       "1  -6611.856833                                  [[0.0, 0.0, 0.0]]   True   \n",
       "2 -13222.338460  [[-0.0340266288463364, -0.385521331811851, 0.3...   True   \n",
       "3 -26446.893109  [[0.41510249036189, 0.986917971756794, -0.3363...  False   \n",
       "4 -26444.811666  [[-1.18932752688358, -0.303375744897557, -0.01...  False   \n",
       "\n",
       "                                                cell  energy_corrected  \\\n",
       "0  [[8.100355, 0.0, -2.124258], [13.180748, 1.371...         -3.922645   \n",
       "1  [[3.717904, 0.0, 0.026786], [-0.395226, 3.4670...         -1.450009   \n",
       "2  [[5.428361, 0.0, 0.877886], [-9.147794, 3.9605...         -1.524812   \n",
       "3  [[0.0, 0.0, 0.0], [0.0, 0.0, 0.0], [0.0, 0.0, ...         -5.265813   \n",
       "4  [[0.0, 0.0, 0.0], [0.0, 0.0, 0.0], [0.0, 0.0, ...         -3.184370   \n",
       "\n",
       "   energy_corrected_per_atom  \\\n",
       "0                  -1.961322   \n",
       "1                  -1.450009   \n",
       "2                  -0.762406   \n",
       "3                  -1.316453   \n",
       "4                  -0.796092   \n",
       "\n",
       "                                           ase_atoms  \\\n",
       "0  (Atom('Al', [0.0, 0.0, 0.0], index=0), Atom('A...   \n",
       "1             (Atom('Al', [0.0, 0.0, 0.0], index=0))   \n",
       "2  (Atom('Al', [0.0, 0.0, 0.0], index=0), Atom('A...   \n",
       "3  (Atom('Al', [0.0, 0.0, 0.0], index=0), Atom('A...   \n",
       "4  (Atom('Al', [0.0, 0.0, 0.0], index=0), Atom('A...   \n",
       "\n",
       "                                          atomic_env  \\\n",
       "0  ACEAtomicEnvironment(n_atoms_real=2, n_atoms_e...   \n",
       "1  ACEAtomicEnvironment(n_atoms_real=1, n_atoms_e...   \n",
       "2  ACEAtomicEnvironment(n_atoms_real=2, n_atoms_e...   \n",
       "3  ACEAtomicEnvironment(n_atoms_real=4, n_atoms_e...   \n",
       "4  ACEAtomicEnvironment(n_atoms_real=4, n_atoms_e...   \n",
       "\n",
       "                                            tp_atoms  \n",
       "0  {'_ind_i': [0, 0, 0, 0, 0, 0, 0, 0, 0, 0, 0, 0...  \n",
       "1  {'_ind_i': [0, 0, 0, 0, 0, 0, 0, 0, 0, 0, 0, 0...  \n",
       "2  {'_ind_i': [0, 0, 0, 0, 0, 0, 0, 0, 0, 0, 0, 0...  \n",
       "3  {'_ind_i': [0, 0, 0, 1, 1, 1, 2, 2, 2, 3, 3, 3...  \n",
       "4  {'_ind_i': [0, 0, 0, 1, 1, 1, 2, 2, 2, 3, 3, 3...  "
      ]
     },
     "execution_count": 6,
     "metadata": {},
     "output_type": "execute_result"
    }
   ],
   "source": [
    "df.head()"
   ]
  },
  {
   "cell_type": "markdown",
   "metadata": {},
   "source": [
    "\n",
    " * `fitting` dataframe, which has extra `w_energy` and `w_forces`"
   ]
  },
  {
   "cell_type": "code",
   "execution_count": 4,
   "metadata": {},
   "outputs": [],
   "source": [
    "enery_weighting_policy = EnergyBasedWeightingPolicy(seed = 42)"
   ]
  },
  {
   "cell_type": "code",
   "execution_count": 5,
   "metadata": {},
   "outputs": [
    {
     "name": "stderr",
     "output_type": "stream",
     "text": [
      "2020-06-30 13:14:26,117 - pyace.preparedata - INFO - Search for cache ref-file: ../data/df-FHI-aims_PBE_tight-Al-ref.pckl.gzip\n",
      "2020-06-30 13:14:26,118 - pyace.preparedata - INFO - ../data/df-FHI-aims_PBE_tight-Al-ref.pckl.gzip found, try to load\n",
      "2020-06-30 13:14:26,118 - pyace.preparedata - INFO - Loading dataframe from pickle file: ../data/df-FHI-aims_PBE_tight-Al-ref.pckl.gzip\n",
      "2020-06-30 13:14:47,892 - pyace.preparedata - INFO - Setting up structures dataframe - please be patient...\n",
      "2020-06-30 13:14:47,904 - pyace.preparedata - INFO - Processing structures dataframe. Shape: (95969, 18)\n",
      "2020-06-30 13:14:47,907 - pyace.preparedata - INFO - Total number of atoms: 798245\n",
      "2020-06-30 13:14:47,908 - pyace.preparedata - INFO - Mean number of atoms per structure: 8.31773801956882\n",
      "2020-06-30 13:14:47,909 - pyace.preparedata - INFO - 'energy' columns found\n",
      "2020-06-30 13:14:47,910 - pyace.preparedata - INFO - 'forces' columns found\n",
      "2020-06-30 13:14:47,912 - pyace.preparedata - INFO - 'pbc' columns found\n",
      "2020-06-30 13:14:47,914 - pyace.preparedata - INFO - 'cell' column found\n",
      "2020-06-30 13:14:47,917 - pyace.preparedata - INFO - 'energy_corrected' column found\n",
      "2020-06-30 13:14:47,919 - pyace.preparedata - INFO - 'energy_corrected_per_atom' column found\n",
      "2020-06-30 13:14:47,923 - pyace.preparedata - INFO - Min energy per atom: -3.6868517011898803\n",
      "2020-06-30 13:14:47,925 - pyace.preparedata - INFO - Max energy per atom: 118.36968144114508\n",
      "2020-06-30 13:14:47,931 - pyace.preparedata - INFO - Min abs energy per atom: 0.0005928800801484613\n",
      "2020-06-30 13:14:47,939 - pyace.preparedata - INFO - Max abs energy per atom: 118.36968144114508\n",
      "2020-06-30 13:14:47,940 - pyace.preparedata - INFO - ASE atoms ('ase_atoms' column) are already in dataframe\n",
      "2020-06-30 13:14:47,942 - pyace.preparedata - INFO - Atomic environment representation construction...\n",
      "2020-06-30 13:14:47,948 - pyace.preparedata - INFO - 'atomic_env' already in dataframe, skipping...\n",
      "2020-06-30 13:14:47,951 - pyace.preparedata - INFO - Atomic environment representation construction...done within 0.0028793811798095703 sec (3.6071396373413804e-06 ms/atom)\n",
      "2020-06-30 13:14:47,955 - pyace.preparedata - INFO - Reference dataframe was not changed, nothing to save\n",
      "2020-06-30 13:14:47,958 - pyace.preparedata - INFO - Apply weights policy: EnergyBasedWeightingPolicy(nfit=20000, cutoff=10, DElow=1.0, DEUp=10.0, DE=1.0, DF=1.0, wlow=0.75, reftype=all,seed=42)\n",
      "2020-06-30 13:14:47,960 - pyace.preparedata - INFO - Keeping bulk and cluster data\n",
      "2020-06-30 13:14:47,962 - pyace.preparedata - INFO - Collecting shortest bond lengths\n",
      "2020-06-30 13:15:10,114 - pyace.preparedata - INFO - Valid structures: 95969 (100.00%)\n",
      "2020-06-30 13:15:10,115 - pyace.preparedata - INFO - Non-valid structures: 0 (0.00%)\n",
      "2020-06-30 13:15:10,116 - pyace.preparedata - INFO - 0 structures outside cutoff that will now be removed from dataframe\n",
      "2020-06-30 13:15:10,189 - pyace.preparedata - INFO - Structure selection for fitting\n",
      "2020-06-30 13:15:10,277 - pyace.preparedata - INFO - 5933 structures below DElow=1.0 eV/atom\n",
      "2020-06-30 13:15:10,278 - pyace.preparedata - INFO - 88963 structures between DElow=1.0 eV/atom and DEup=10.0 eV/atom\n",
      "2020-06-30 13:15:10,279 - pyace.preparedata - INFO - all other structures were removed\n",
      "2020-06-30 13:15:10,342 - pyace.preparedata - INFO - 20000 structures were selected\n",
      "2020-06-30 13:15:10,343 - pyace.preparedata - INFO - Setting up energy weights\n",
      "2020-06-30 13:15:10,430 - numexpr.utils - INFO - NumExpr defaulting to 8 threads.\n",
      "2020-06-30 13:15:10,477 - pyace.preparedata - INFO - Current relative energy weights: 0.7015333388111944/0.2984666611888056\n",
      "2020-06-30 13:15:10,478 - pyace.preparedata - INFO - Will be adjusted to            : 0.75/0.25\n",
      "2020-06-30 13:15:10,491 - pyace.preparedata - INFO - After adjustment: relative energy weights: 0.7499999999999999/0.24999999999999997\n",
      "2020-06-30 13:15:10,492 - pyace.preparedata - INFO - Setting up force weights\n"
     ]
    }
   ],
   "source": [
    "df_fit = spec.get_fit_dataframe(weights_policy= enery_weighting_policy)"
   ]
  },
  {
   "cell_type": "code",
   "execution_count": 8,
   "metadata": {},
   "outputs": [
    {
     "data": {
      "text/plain": [
       "(20000, 21)"
      ]
     },
     "execution_count": 8,
     "metadata": {},
     "output_type": "execute_result"
    }
   ],
   "source": [
    "df_fit.shape"
   ]
  },
  {
   "cell_type": "code",
   "execution_count": 9,
   "metadata": {},
   "outputs": [
    {
     "data": {
      "text/html": [
       "<div>\n",
       "<style scoped>\n",
       "    .dataframe tbody tr th:only-of-type {\n",
       "        vertical-align: middle;\n",
       "    }\n",
       "\n",
       "    .dataframe tbody tr th {\n",
       "        vertical-align: top;\n",
       "    }\n",
       "\n",
       "    .dataframe thead th {\n",
       "        text-align: right;\n",
       "    }\n",
       "</style>\n",
       "<table border=\"1\" class=\"dataframe\">\n",
       "  <thead>\n",
       "    <tr style=\"text-align: right;\">\n",
       "      <th></th>\n",
       "      <th>prop_id</th>\n",
       "      <th>structure_id</th>\n",
       "      <th>gen_id</th>\n",
       "      <th>PROTOTYPE_NAME</th>\n",
       "      <th>COORDINATES_TYPE</th>\n",
       "      <th>_COORDINATES</th>\n",
       "      <th>_OCCUPATION</th>\n",
       "      <th>NUMBER_OF_ATOMS</th>\n",
       "      <th>_VALUE</th>\n",
       "      <th>energy</th>\n",
       "      <th>...</th>\n",
       "      <th>pbc</th>\n",
       "      <th>cell</th>\n",
       "      <th>energy_corrected</th>\n",
       "      <th>energy_corrected_per_atom</th>\n",
       "      <th>ase_atoms</th>\n",
       "      <th>atomic_env</th>\n",
       "      <th>tp_atoms</th>\n",
       "      <th>dmin</th>\n",
       "      <th>w_energy</th>\n",
       "      <th>w_forces</th>\n",
       "    </tr>\n",
       "  </thead>\n",
       "  <tbody>\n",
       "    <tr>\n",
       "      <th>0</th>\n",
       "      <td>1090141</td>\n",
       "      <td>953983</td>\n",
       "      <td>55178</td>\n",
       "      <td>diamondc16.shake.42</td>\n",
       "      <td>relative</td>\n",
       "      <td>[[0.0037808162147233704, 0.0036182482143214184...</td>\n",
       "      <td>[Al, Al, Al, Al, Al, Al, Al, Al, Al, Al, Al, A...</td>\n",
       "      <td>16</td>\n",
       "      <td>{'energy': -105812.195556118, 'forces': [[0.29...</td>\n",
       "      <td>-105812.195556</td>\n",
       "      <td>...</td>\n",
       "      <td>True</td>\n",
       "      <td>[[0.415485, 6.005684, 6.063812], [6.116926, 0....</td>\n",
       "      <td>-45.686373</td>\n",
       "      <td>-2.855398</td>\n",
       "      <td>(Atom('Al', [0.025009000000000003, 0.024623999...</td>\n",
       "      <td>ACEAtomicEnvironment(n_atoms_real=16, n_atoms_...</td>\n",
       "      <td>{'_ind_i': [0, 0, 0, 0, 0, 0, 0, 0, 0, 0, 0, 0...</td>\n",
       "      <td>2.333629</td>\n",
       "      <td>0.000073</td>\n",
       "      <td>[4.977009306582734e-06, 4.6306657979896054e-06...</td>\n",
       "    </tr>\n",
       "    <tr>\n",
       "      <th>1</th>\n",
       "      <td>1093875</td>\n",
       "      <td>957717</td>\n",
       "      <td>55357</td>\n",
       "      <td>hcp16.shake.6</td>\n",
       "      <td>relative</td>\n",
       "      <td>[[0.010281096528030548, 0.03539377615830921, 0...</td>\n",
       "      <td>[Al, Al, Al, Al, Al, Al, Al, Al, Al, Al, Al, A...</td>\n",
       "      <td>16</td>\n",
       "      <td>{'energy': -105820.772419718, 'forces': [[-1.8...</td>\n",
       "      <td>-105820.772420</td>\n",
       "      <td>...</td>\n",
       "      <td>True</td>\n",
       "      <td>[[2.62753, -4.620654, -0.138915], [2.506362, 4...</td>\n",
       "      <td>-54.263236</td>\n",
       "      <td>-3.391452</td>\n",
       "      <td>(Atom('Al', [0.5376960000000001, -0.0440720000...</td>\n",
       "      <td>ACEAtomicEnvironment(n_atoms_real=16, n_atoms_...</td>\n",
       "      <td>{'_ind_i': [0, 0, 0, 0, 0, 0, 0, 0, 0, 0, 0, 0...</td>\n",
       "      <td>2.388531</td>\n",
       "      <td>0.000146</td>\n",
       "      <td>[3.4071741127587152e-06, 4.803533349225721e-06...</td>\n",
       "    </tr>\n",
       "    <tr>\n",
       "      <th>2</th>\n",
       "      <td>1055197</td>\n",
       "      <td>919039</td>\n",
       "      <td>23211</td>\n",
       "      <td>rancluster-18-336</td>\n",
       "      <td>absolute</td>\n",
       "      <td>[[0.0, 0.0, 0.0], [-2.238687, -2.908839, 0.160...</td>\n",
       "      <td>[Al, Al, Al, Al, Al, Al, Al, Al, Al, Al, Al, A...</td>\n",
       "      <td>18</td>\n",
       "      <td>{'energy': -119022.316933696, 'forces': [[2.29...</td>\n",
       "      <td>-119022.316934</td>\n",
       "      <td>...</td>\n",
       "      <td>False</td>\n",
       "      <td>[[0.0, 0.0, 0.0], [0.0, 0.0, 0.0], [0.0, 0.0, ...</td>\n",
       "      <td>-34.994102</td>\n",
       "      <td>-1.944117</td>\n",
       "      <td>(Atom('Al', [0.0, 0.0, 0.0], index=0), Atom('A...</td>\n",
       "      <td>ACEAtomicEnvironment(n_atoms_real=18, n_atoms_...</td>\n",
       "      <td>{'_ind_i': [0, 0, 0, 0, 0, 0, 0, 0, 0, 0, 0, 0...</td>\n",
       "      <td>2.023115</td>\n",
       "      <td>0.000025</td>\n",
       "      <td>[2.7501604061705484e-07, 4.0279298691484244e-0...</td>\n",
       "    </tr>\n",
       "    <tr>\n",
       "      <th>3</th>\n",
       "      <td>1087012</td>\n",
       "      <td>950854</td>\n",
       "      <td>54953</td>\n",
       "      <td>C14</td>\n",
       "      <td>relative</td>\n",
       "      <td>[[0.0, 0.0, 0.0], [0.0, 0.0, 0.5], [0.83011592...</td>\n",
       "      <td>[Al, Al, Al, Al, Al, Al, Al, Al, Al, Al, Al, Al]</td>\n",
       "      <td>12</td>\n",
       "      <td>{'energy': -79365.3140848052, 'forces': [[5.42...</td>\n",
       "      <td>-79365.314085</td>\n",
       "      <td>...</td>\n",
       "      <td>True</td>\n",
       "      <td>[[2.857971, -4.950149, 0.0], [2.857971, 4.9501...</td>\n",
       "      <td>-40.432197</td>\n",
       "      <td>-3.369350</td>\n",
       "      <td>(Atom('Al', [0.0, 0.0, 0.0], index=0), Atom('A...</td>\n",
       "      <td>ACEAtomicEnvironment(n_atoms_real=12, n_atoms_...</td>\n",
       "      <td>{'_ind_i': [0, 0, 0, 0, 0, 0, 0, 0, 0, 0, 0, 0...</td>\n",
       "      <td>2.802800</td>\n",
       "      <td>0.000141</td>\n",
       "      <td>[1.763010288424642e-05, 1.7630102891384898e-05...</td>\n",
       "    </tr>\n",
       "    <tr>\n",
       "      <th>4</th>\n",
       "      <td>1097712</td>\n",
       "      <td>961554</td>\n",
       "      <td>58919</td>\n",
       "      <td>sc8.shakesmall.6</td>\n",
       "      <td>relative</td>\n",
       "      <td>[[0.006226161760917483, 0.9941500664888745, 0....</td>\n",
       "      <td>[Al, Al, Al, Al, Al, Al, Al, Al]</td>\n",
       "      <td>8</td>\n",
       "      <td>{'energy': -52907.1017403953, 'forces': [[0.01...</td>\n",
       "      <td>-52907.101740</td>\n",
       "      <td>...</td>\n",
       "      <td>True</td>\n",
       "      <td>[[5.944355, -0.205336, -0.103436], [-0.276353,...</td>\n",
       "      <td>-23.847149</td>\n",
       "      <td>-2.980894</td>\n",
       "      <td>(Atom('Al', [-0.23998800000000003, 5.998510000...</td>\n",
       "      <td>ACEAtomicEnvironment(n_atoms_real=8, n_atoms_e...</td>\n",
       "      <td>{'_ind_i': [0, 0, 0, 0, 0, 0, 0, 0, 0, 0, 0, 0...</td>\n",
       "      <td>2.932034</td>\n",
       "      <td>0.000084</td>\n",
       "      <td>[1.0511141301482638e-05, 1.046144687847884e-05...</td>\n",
       "    </tr>\n",
       "  </tbody>\n",
       "</table>\n",
       "<p>5 rows × 21 columns</p>\n",
       "</div>"
      ],
      "text/plain": [
       "   prop_id  structure_id  gen_id       PROTOTYPE_NAME COORDINATES_TYPE  \\\n",
       "0  1090141        953983   55178  diamondc16.shake.42         relative   \n",
       "1  1093875        957717   55357        hcp16.shake.6         relative   \n",
       "2  1055197        919039   23211    rancluster-18-336         absolute   \n",
       "3  1087012        950854   54953                  C14         relative   \n",
       "4  1097712        961554   58919     sc8.shakesmall.6         relative   \n",
       "\n",
       "                                        _COORDINATES  \\\n",
       "0  [[0.0037808162147233704, 0.0036182482143214184...   \n",
       "1  [[0.010281096528030548, 0.03539377615830921, 0...   \n",
       "2  [[0.0, 0.0, 0.0], [-2.238687, -2.908839, 0.160...   \n",
       "3  [[0.0, 0.0, 0.0], [0.0, 0.0, 0.5], [0.83011592...   \n",
       "4  [[0.006226161760917483, 0.9941500664888745, 0....   \n",
       "\n",
       "                                         _OCCUPATION  NUMBER_OF_ATOMS  \\\n",
       "0  [Al, Al, Al, Al, Al, Al, Al, Al, Al, Al, Al, A...               16   \n",
       "1  [Al, Al, Al, Al, Al, Al, Al, Al, Al, Al, Al, A...               16   \n",
       "2  [Al, Al, Al, Al, Al, Al, Al, Al, Al, Al, Al, A...               18   \n",
       "3   [Al, Al, Al, Al, Al, Al, Al, Al, Al, Al, Al, Al]               12   \n",
       "4                   [Al, Al, Al, Al, Al, Al, Al, Al]                8   \n",
       "\n",
       "                                              _VALUE         energy  ...  \\\n",
       "0  {'energy': -105812.195556118, 'forces': [[0.29... -105812.195556  ...   \n",
       "1  {'energy': -105820.772419718, 'forces': [[-1.8... -105820.772420  ...   \n",
       "2  {'energy': -119022.316933696, 'forces': [[2.29... -119022.316934  ...   \n",
       "3  {'energy': -79365.3140848052, 'forces': [[5.42...  -79365.314085  ...   \n",
       "4  {'energy': -52907.1017403953, 'forces': [[0.01...  -52907.101740  ...   \n",
       "\n",
       "     pbc                                               cell energy_corrected  \\\n",
       "0   True  [[0.415485, 6.005684, 6.063812], [6.116926, 0....       -45.686373   \n",
       "1   True  [[2.62753, -4.620654, -0.138915], [2.506362, 4...       -54.263236   \n",
       "2  False  [[0.0, 0.0, 0.0], [0.0, 0.0, 0.0], [0.0, 0.0, ...       -34.994102   \n",
       "3   True  [[2.857971, -4.950149, 0.0], [2.857971, 4.9501...       -40.432197   \n",
       "4   True  [[5.944355, -0.205336, -0.103436], [-0.276353,...       -23.847149   \n",
       "\n",
       "   energy_corrected_per_atom  \\\n",
       "0                  -2.855398   \n",
       "1                  -3.391452   \n",
       "2                  -1.944117   \n",
       "3                  -3.369350   \n",
       "4                  -2.980894   \n",
       "\n",
       "                                           ase_atoms  \\\n",
       "0  (Atom('Al', [0.025009000000000003, 0.024623999...   \n",
       "1  (Atom('Al', [0.5376960000000001, -0.0440720000...   \n",
       "2  (Atom('Al', [0.0, 0.0, 0.0], index=0), Atom('A...   \n",
       "3  (Atom('Al', [0.0, 0.0, 0.0], index=0), Atom('A...   \n",
       "4  (Atom('Al', [-0.23998800000000003, 5.998510000...   \n",
       "\n",
       "                                          atomic_env  \\\n",
       "0  ACEAtomicEnvironment(n_atoms_real=16, n_atoms_...   \n",
       "1  ACEAtomicEnvironment(n_atoms_real=16, n_atoms_...   \n",
       "2  ACEAtomicEnvironment(n_atoms_real=18, n_atoms_...   \n",
       "3  ACEAtomicEnvironment(n_atoms_real=12, n_atoms_...   \n",
       "4  ACEAtomicEnvironment(n_atoms_real=8, n_atoms_e...   \n",
       "\n",
       "                                            tp_atoms      dmin  w_energy  \\\n",
       "0  {'_ind_i': [0, 0, 0, 0, 0, 0, 0, 0, 0, 0, 0, 0...  2.333629  0.000073   \n",
       "1  {'_ind_i': [0, 0, 0, 0, 0, 0, 0, 0, 0, 0, 0, 0...  2.388531  0.000146   \n",
       "2  {'_ind_i': [0, 0, 0, 0, 0, 0, 0, 0, 0, 0, 0, 0...  2.023115  0.000025   \n",
       "3  {'_ind_i': [0, 0, 0, 0, 0, 0, 0, 0, 0, 0, 0, 0...  2.802800  0.000141   \n",
       "4  {'_ind_i': [0, 0, 0, 0, 0, 0, 0, 0, 0, 0, 0, 0...  2.932034  0.000084   \n",
       "\n",
       "                                            w_forces  \n",
       "0  [4.977009306582734e-06, 4.6306657979896054e-06...  \n",
       "1  [3.4071741127587152e-06, 4.803533349225721e-06...  \n",
       "2  [2.7501604061705484e-07, 4.0279298691484244e-0...  \n",
       "3  [1.763010288424642e-05, 1.7630102891384898e-05...  \n",
       "4  [1.0511141301482638e-05, 1.046144687847884e-05...  \n",
       "\n",
       "[5 rows x 21 columns]"
      ]
     },
     "execution_count": 9,
     "metadata": {},
     "output_type": "execute_result"
    }
   ],
   "source": [
    "df_fit.head()"
   ]
  },
  {
   "cell_type": "markdown",
   "metadata": {},
   "source": [
    "# Subset selection"
   ]
  },
  {
   "cell_type": "markdown",
   "metadata": {},
   "source": [
    "**!!! WARNING !!!**, large memory consumption is possible, keep your memory empty, "
   ]
  },
  {
   "cell_type": "markdown",
   "metadata": {},
   "source": [
    "## FCC-related only"
   ]
  },
  {
   "cell_type": "code",
   "execution_count": 36,
   "metadata": {},
   "outputs": [],
   "source": [
    "fcc_bulk_mask = (df.PROTOTYPE_NAME.str.contains(\"fcc\")) & (df.pbc)"
   ]
  },
  {
   "cell_type": "code",
   "execution_count": 37,
   "metadata": {},
   "outputs": [],
   "source": [
    "df_selected = df[fcc_bulk_mask]"
   ]
  },
  {
   "cell_type": "code",
   "execution_count": 38,
   "metadata": {},
   "outputs": [
    {
     "data": {
      "text/plain": [
       "(1550, 18)"
      ]
     },
     "execution_count": 38,
     "metadata": {},
     "output_type": "execute_result"
    }
   ],
   "source": [
    "df_selected.shape"
   ]
  },
  {
   "cell_type": "code",
   "execution_count": null,
   "metadata": {},
   "outputs": [],
   "source": []
  },
  {
   "cell_type": "code",
   "execution_count": 10,
   "metadata": {},
   "outputs": [],
   "source": [
    "df_selected.to_pickle(\"Al-fcc-pbc.pckl.gzip\",compression=\"gzip\")"
   ]
  },
  {
   "cell_type": "code",
   "execution_count": null,
   "metadata": {},
   "outputs": [],
   "source": []
  },
  {
   "cell_type": "code",
   "execution_count": 39,
   "metadata": {},
   "outputs": [
    {
     "data": {
      "text/plain": [
       "88"
      ]
     },
     "execution_count": 39,
     "metadata": {},
     "output_type": "execute_result"
    }
   ],
   "source": [
    "del df_selected\n",
    "gc.collect()"
   ]
  },
  {
   "cell_type": "markdown",
   "metadata": {},
   "source": [
    "# Structures up-to 3 eV/atom above minimum"
   ]
  },
  {
   "cell_type": "code",
   "execution_count": 32,
   "metadata": {},
   "outputs": [
    {
     "name": "stdout",
     "output_type": "stream",
     "text": [
      "e_min = -3.6868517011898803 eV/atom\n"
     ]
    }
   ],
   "source": [
    "e_min = df[\"energy_corrected_per_atom\"].min()\n",
    "print(\"e_min = {} eV/atom\".format(e_min))"
   ]
  },
  {
   "cell_type": "code",
   "execution_count": 33,
   "metadata": {},
   "outputs": [],
   "source": [
    "below_3eV_mask = df[\"energy_corrected_per_atom\"]<=e_min + 3"
   ]
  },
  {
   "cell_type": "code",
   "execution_count": 34,
   "metadata": {},
   "outputs": [
    {
     "data": {
      "text/plain": [
       "(72474, 18)"
      ]
     },
     "execution_count": 34,
     "metadata": {},
     "output_type": "execute_result"
    }
   ],
   "source": [
    "df_selected = df[below_3eV_mask]\n",
    "df_selected.shape"
   ]
  },
  {
   "cell_type": "code",
   "execution_count": null,
   "metadata": {},
   "outputs": [],
   "source": []
  },
  {
   "cell_type": "code",
   "execution_count": null,
   "metadata": {},
   "outputs": [],
   "source": [
    "df_selected.to_pickle(\"Al-3eV.pckl.gzip\", compression=\"gzip\")"
   ]
  },
  {
   "cell_type": "code",
   "execution_count": null,
   "metadata": {},
   "outputs": [],
   "source": []
  },
  {
   "cell_type": "code",
   "execution_count": 35,
   "metadata": {},
   "outputs": [
    {
     "data": {
      "text/plain": [
       "4071"
      ]
     },
     "execution_count": 35,
     "metadata": {},
     "output_type": "execute_result"
    }
   ],
   "source": [
    "del df_selected\n",
    "gc.collect()"
   ]
  },
  {
   "cell_type": "markdown",
   "metadata": {},
   "source": [
    "## All bulks and dimers"
   ]
  },
  {
   "cell_type": "code",
   "execution_count": 40,
   "metadata": {},
   "outputs": [],
   "source": [
    "dimer_only_mask = (df[\"NUMBER_OF_ATOMS\"]==2) & (df[\"pbc\"]==False)\n",
    "bulk_mask = df[\"pbc\"]==True"
   ]
  },
  {
   "cell_type": "code",
   "execution_count": 41,
   "metadata": {},
   "outputs": [
    {
     "data": {
      "text/plain": [
       "(27136, 18)"
      ]
     },
     "execution_count": 41,
     "metadata": {},
     "output_type": "execute_result"
    }
   ],
   "source": [
    "df_selected = df[dimer_only_mask | bulk_mask]\n",
    "df_selected.shape"
   ]
  },
  {
   "cell_type": "code",
   "execution_count": null,
   "metadata": {},
   "outputs": [],
   "source": []
  },
  {
   "cell_type": "code",
   "execution_count": null,
   "metadata": {},
   "outputs": [],
   "source": [
    "df_selected.to_pickle(\"Al-bulk-and-dimers.pckl.gzip\", compression=\"gzip\")"
   ]
  },
  {
   "cell_type": "code",
   "execution_count": null,
   "metadata": {},
   "outputs": [],
   "source": []
  },
  {
   "cell_type": "code",
   "execution_count": 42,
   "metadata": {},
   "outputs": [
    {
     "data": {
      "text/plain": [
       "66"
      ]
     },
     "execution_count": 42,
     "metadata": {},
     "output_type": "execute_result"
    }
   ],
   "source": [
    "del df_selected\n",
    "gc.collect()"
   ]
  },
  {
   "cell_type": "markdown",
   "metadata": {},
   "source": [
    "## Exclude all \"shake\" structures"
   ]
  },
  {
   "cell_type": "code",
   "execution_count": 44,
   "metadata": {},
   "outputs": [
    {
     "data": {
      "text/plain": [
       "(85109, 18)"
      ]
     },
     "execution_count": 44,
     "metadata": {},
     "output_type": "execute_result"
    }
   ],
   "source": [
    "non_shake_mask = ~df[\"PROTOTYPE_NAME\"].str.contains(\"shake\")\n",
    "df_selected = df[non_shake_mask]\n",
    "df_selected.shape"
   ]
  },
  {
   "cell_type": "code",
   "execution_count": null,
   "metadata": {},
   "outputs": [],
   "source": []
  },
  {
   "cell_type": "code",
   "execution_count": null,
   "metadata": {},
   "outputs": [],
   "source": [
    "df_selected.to_pickle(\"Al-no-shakes.pckl.gzip\", compression=\"gzip\")"
   ]
  },
  {
   "cell_type": "code",
   "execution_count": null,
   "metadata": {},
   "outputs": [],
   "source": []
  },
  {
   "cell_type": "code",
   "execution_count": 45,
   "metadata": {},
   "outputs": [
    {
     "data": {
      "text/plain": [
       "1344"
      ]
     },
     "execution_count": 45,
     "metadata": {},
     "output_type": "execute_result"
    }
   ],
   "source": [
    "del df_selected\n",
    "gc.collect()"
   ]
  },
  {
   "cell_type": "code",
   "execution_count": null,
   "metadata": {},
   "outputs": [],
   "source": []
  }
 ],
 "metadata": {
  "kernelspec": {
   "display_name": "Python 3",
   "language": "python",
   "name": "python3"
  },
  "language_info": {
   "codemirror_mode": {
    "name": "ipython",
    "version": 3
   },
   "file_extension": ".py",
   "mimetype": "text/x-python",
   "name": "python",
   "nbconvert_exporter": "python",
   "pygments_lexer": "ipython3",
   "version": "3.7.6"
  }
 },
 "nbformat": 4,
 "nbformat_minor": 4
}
