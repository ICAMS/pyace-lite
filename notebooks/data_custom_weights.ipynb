{
 "cells": [
  {
   "cell_type": "code",
   "execution_count": 1,
   "metadata": {},
   "outputs": [
    {
     "name": "stdout",
     "output_type": "stream",
     "text": [
      "Populating the interactive namespace from numpy and matplotlib\n"
     ]
    }
   ],
   "source": [
    "%pylab inline"
   ]
  },
  {
   "cell_type": "code",
   "execution_count": 2,
   "metadata": {},
   "outputs": [],
   "source": [
    "import pandas as pd"
   ]
  },
  {
   "cell_type": "code",
   "execution_count": 5,
   "metadata": {},
   "outputs": [],
   "source": [
    "from pyace.preparedata import WEIGHTS_ENERGY_COLUMN, WEIGHTS_FORCES_COLUMN, normalize_energy_forces_weights"
   ]
  },
  {
   "cell_type": "markdown",
   "metadata": {},
   "source": [
    "# 1. Loading reference dataframe"
   ]
  },
  {
   "cell_type": "markdown",
   "metadata": {},
   "source": [
    "# 1.1 Load from cache/dataset"
   ]
  },
  {
   "cell_type": "code",
   "execution_count": 3,
   "metadata": {},
   "outputs": [],
   "source": [
    "config={\n",
    "    \"calculator\":StructuresDatasetSpecification.FHI_AIMS_PBE_TIGHT, #='FHI-aims/PBE/tight'\n",
    "    \"element\":\"Al\",\n",
    "    \"seed\":42 # for shuffling the data\n",
    "}"
   ]
  },
  {
   "cell_type": "markdown",
   "metadata": {},
   "source": [
    "2. Create `StructuresDatasetSpecification` object, specify `datapath` to point to the location of cached pickl files"
   ]
  },
  {
   "cell_type": "code",
   "execution_count": 4,
   "metadata": {},
   "outputs": [],
   "source": [
    "spec = StructuresDatasetSpecification(\n",
    "    config=config,\n",
    "    datapath=\"../data\", # where to look and store cached pickle files\n",
    "#     parallel=3, # parallel processing of data? uncomment it out, if you want\n",
    ")"
   ]
  },
  {
   "cell_type": "markdown",
   "metadata": {},
   "source": [
    "There are two dataframes: \n",
    " * `reference` dataframe, which has original data, energies, forces, corrected energies, ASE atoms and atomic environments (neighbour listst)"
   ]
  },
  {
   "cell_type": "code",
   "execution_count": 5,
   "metadata": {},
   "outputs": [
    {
     "name": "stderr",
     "output_type": "stream",
     "text": [
      "2020-07-06 12:17:01,778 - pyace.preparedata - INFO - Search for cache ref-file: ../data/df-FHI-aims_PBE_tight-Al-ref.pckl.gzip\n",
      "2020-07-06 12:17:01,779 - pyace.preparedata - INFO - ../data/df-FHI-aims_PBE_tight-Al-ref.pckl.gzip found, try to load\n",
      "2020-07-06 12:17:01,779 - pyace.preparedata - INFO - Loading dataframe from pickle file: ../data/df-FHI-aims_PBE_tight-Al-ref.pckl.gzip\n",
      "2020-07-06 12:17:29,062 - pyace.preparedata - INFO - Setting up structures dataframe - please be patient...\n",
      "2020-07-06 12:17:29,072 - pyace.preparedata - INFO - Processing structures dataframe. Shape: (95969, 18)\n",
      "2020-07-06 12:17:29,076 - pyace.preparedata - INFO - Total number of atoms: 798245\n",
      "2020-07-06 12:17:29,077 - pyace.preparedata - INFO - Mean number of atoms per structure: 8.31773801956882\n",
      "2020-07-06 12:17:29,078 - pyace.preparedata - INFO - 'energy' columns found\n",
      "2020-07-06 12:17:29,080 - pyace.preparedata - INFO - 'forces' columns found\n",
      "2020-07-06 12:17:29,082 - pyace.preparedata - INFO - 'pbc' columns found\n",
      "2020-07-06 12:17:29,084 - pyace.preparedata - INFO - 'cell' column found\n",
      "2020-07-06 12:17:29,085 - pyace.preparedata - INFO - 'energy_corrected' column found\n",
      "2020-07-06 12:17:29,088 - pyace.preparedata - INFO - 'energy_corrected_per_atom' column found\n",
      "2020-07-06 12:17:29,091 - pyace.preparedata - INFO - Min energy per atom: -3.6868517011898803\n",
      "2020-07-06 12:17:29,093 - pyace.preparedata - INFO - Max energy per atom: 118.36968144114508\n",
      "2020-07-06 12:17:29,101 - pyace.preparedata - INFO - Min abs energy per atom: 0.0005928800801484613\n",
      "2020-07-06 12:17:29,111 - pyace.preparedata - INFO - Max abs energy per atom: 118.36968144114508\n",
      "2020-07-06 12:17:29,112 - pyace.preparedata - INFO - ASE atoms ('ase_atoms' column) are already in dataframe\n",
      "2020-07-06 12:17:29,118 - pyace.preparedata - INFO - Atomic environment representation construction...\n",
      "2020-07-06 12:17:29,129 - pyace.preparedata - INFO - 'atomic_env' already in dataframe, skipping...\n",
      "2020-07-06 12:17:29,132 - pyace.preparedata - INFO - Atomic environment representation construction...done within 0.003358602523803711 sec (4.20748332129072e-06 ms/atom)\n",
      "2020-07-06 12:17:29,135 - pyace.preparedata - INFO - Reference dataframe was not changed, nothing to save\n"
     ]
    }
   ],
   "source": [
    "df = spec.get_ref_dataframe() "
   ]
  },
  {
   "cell_type": "code",
   "execution_count": null,
   "metadata": {},
   "outputs": [],
   "source": []
  },
  {
   "cell_type": "markdown",
   "metadata": {},
   "source": [
    "## 1.2 Load custom pickled dataframe"
   ]
  },
  {
   "cell_type": "code",
   "execution_count": 6,
   "metadata": {},
   "outputs": [],
   "source": [
    "df=pd.read_pickle(\"df-FHI-aims_PBE_tight-Al-ref.pckl.gzip\", compression=\"gzip\")"
   ]
  },
  {
   "cell_type": "code",
   "execution_count": 7,
   "metadata": {},
   "outputs": [
    {
     "data": {
      "text/plain": [
       "(6, 18)"
      ]
     },
     "execution_count": 7,
     "metadata": {},
     "output_type": "execute_result"
    }
   ],
   "source": [
    "df.shape"
   ]
  },
  {
   "cell_type": "markdown",
   "metadata": {},
   "source": [
    "# 2. Generate custom energy/forces weights"
   ]
  },
  {
   "cell_type": "markdown",
   "metadata": {},
   "source": [
    "Example: Energy weights are inverse proportional to number of atoms"
   ]
  },
  {
   "cell_type": "code",
   "execution_count": 12,
   "metadata": {},
   "outputs": [],
   "source": [
    "df[WEIGHTS_ENERGY_COLUMN] = 1./df[\"NUMBER_OF_ATOMS\"]"
   ]
  },
  {
   "cell_type": "markdown",
   "metadata": {},
   "source": [
    "Example: Force weights are inverse proportional to number of atoms"
   ]
  },
  {
   "cell_type": "code",
   "execution_count": 11,
   "metadata": {},
   "outputs": [],
   "source": [
    "def generate_force_weights(row):\n",
    "    n = row[\"NUMBER_OF_ATOMS\"]\n",
    "    return np.ones(n)/n"
   ]
  },
  {
   "cell_type": "code",
   "execution_count": 14,
   "metadata": {},
   "outputs": [],
   "source": [
    "df[WEIGHTS_FORCES_COLUMN] =  df.apply(generate_force_weights, axis=1)"
   ]
  },
  {
   "cell_type": "markdown",
   "metadata": {},
   "source": [
    "Normalize the weights"
   ]
  },
  {
   "cell_type": "code",
   "execution_count": 18,
   "metadata": {},
   "outputs": [],
   "source": [
    "normalize_energy_forces_weights(df);"
   ]
  },
  {
   "cell_type": "markdown",
   "metadata": {},
   "source": [
    "Store dataframe with weights to pickle gzip file"
   ]
  },
  {
   "cell_type": "code",
   "execution_count": 19,
   "metadata": {},
   "outputs": [],
   "source": [
    "df.to_pickle(\"df_weights.pckl.gzip\", compression=\"gzip\")"
   ]
  },
  {
   "cell_type": "markdown",
   "metadata": {},
   "source": [
    "# Usage"
   ]
  },
  {
   "cell_type": "markdown",
   "metadata": {},
   "source": [
    "**input.yaml:**\n",
    "\n",
    "```\n",
    "...\n",
    "\n",
    "data:\n",
    "    filename: df_weights.pckl.gzip\n",
    "\n",
    "...\n",
    "``` "
   ]
  },
  {
   "cell_type": "markdown",
   "metadata": {},
   "source": [
    "If you want to use dataframe, but ignore provided weights:"
   ]
  },
  {
   "cell_type": "markdown",
   "metadata": {},
   "source": [
    "**input.yaml:**\n",
    "\n",
    "```\n",
    "...\n",
    "\n",
    "data:\n",
    "    filename: df_weights.pckl.gzip\n",
    "    ignore_weights: True\n",
    "\n",
    "...\n",
    "``` "
   ]
  },
  {
   "cell_type": "markdown",
   "metadata": {},
   "source": []
  }
 ],
 "metadata": {
  "kernelspec": {
   "display_name": "Python 3",
   "language": "python",
   "name": "python3"
  },
  "language_info": {
   "codemirror_mode": {
    "name": "ipython",
    "version": 3
   },
   "file_extension": ".py",
   "mimetype": "text/x-python",
   "name": "python",
   "nbconvert_exporter": "python",
   "pygments_lexer": "ipython3",
   "version": "3.7.6"
  }
 },
 "nbformat": 4,
 "nbformat_minor": 4
}
